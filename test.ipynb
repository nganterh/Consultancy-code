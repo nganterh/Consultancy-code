{
 "cells": [
  {
   "cell_type": "code",
   "execution_count": 1,
   "id": "packed-convenience",
   "metadata": {},
   "outputs": [],
   "source": [
    "from datetime import datetime\n",
    "import os\n",
    "import pickle\n",
    "import utils"
   ]
  },
  {
   "cell_type": "code",
   "execution_count": 40,
   "id": "gothic-fitness",
   "metadata": {},
   "outputs": [
    {
     "name": "stdout",
     "output_type": "stream",
     "text": [
      "\n",
      "Si es la primera vez que corre este programa, por favor abra la terminal PowerShell de Anaconda e ingrese el siguiente comando:\n",
      "\n",
      "\u001b[1mpip install -r C:\\Users\\nicol\\Proyectos\\GitHub\\Ganter-Investment\\requirements.txt\u001b[0m\n",
      "\n"
     ]
    }
   ],
   "source": [
    "time_id = datetime.today().strftime('%Y%m%d')\n",
    "\n",
    "print(f'\\nSi es la primera vez que corre este programa, por favor abra la terminal PowerShell de Anaconda' +\n",
    "      f' e ingrese el siguiente comando:\\n\\n\\033[1mpip install -r {os.getcwd()}\\\\requirements.txt\\033[0m\\n')"
   ]
  },
  {
   "cell_type": "code",
   "execution_count": 57,
   "id": "clinical-boating",
   "metadata": {},
   "outputs": [],
   "source": [
    "def login(username, password, entry_type):\n",
    "    dir_files = f'{os.getcwd()}\\\\Credentials'\n",
    "    dict_pickles = utils.check_files(dir_files, 'credentials')\n",
    "    \n",
    "    try:\n",
    "        last_pickle = utils.last_pickle(dict_pickles)\n",
    "        with open(f'{dir_files}\\\\{last_pickle}', 'rb') as file:\n",
    "            credentials = pickle.load(file)\n",
    "            \n",
    "        return credentials\n",
    "    \n",
    "    except Exception as e:\n",
    "        credentials = {}\n",
    "        \n",
    "    if entry_type == 'login':\n",
    "        if (username in list(credentials.keys())) and (password == credentials[username]):\n",
    "            return 'User successfully logged in!'\n",
    "        \n",
    "        elif username not in list(credentials.keys()):\n",
    "            return 'Username not yet registered.'\n",
    "        \n",
    "        elif (username in list(credentials.keys())) and (password != credentials[username]):\n",
    "            return 'Incorrect password.'\n",
    "        \n",
    "    elif entry_type == 'register':\n",
    "        credentials[username] = password\n",
    "        \n",
    "        with open(f'{dir_files}\\\\{time_id}_credentials_for_ganter_investment.pickle', 'wb') as file:\n",
    "            pickle.dump(credentials, file)\n",
    "        \n",
    "        return 'User successfully registered!'"
   ]
  },
  {
   "cell_type": "code",
   "execution_count": 58,
   "id": "proof-complex",
   "metadata": {},
   "outputs": [
    {
     "name": "stdout",
     "output_type": "stream",
     "text": [
      "{'nganter': 'ganter123', 'caro': 'ganterbkn'}\n"
     ]
    }
   ],
   "source": [
    "credentials = login('caro', 'Ruedosos17', 'login')\n",
    "print(credentials)"
   ]
  },
  {
   "cell_type": "code",
   "execution_count": null,
   "id": "played-navigation",
   "metadata": {},
   "outputs": [],
   "source": []
  }
 ],
 "metadata": {
  "kernelspec": {
   "display_name": "Python 3",
   "language": "python",
   "name": "python3"
  },
  "language_info": {
   "codemirror_mode": {
    "name": "ipython",
    "version": 3
   },
   "file_extension": ".py",
   "mimetype": "text/x-python",
   "name": "python",
   "nbconvert_exporter": "python",
   "pygments_lexer": "ipython3",
   "version": "3.8.8"
  }
 },
 "nbformat": 4,
 "nbformat_minor": 5
}
