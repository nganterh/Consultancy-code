{
 "cells": [
  {
   "cell_type": "code",
   "execution_count": 16,
   "metadata": {},
   "outputs": [],
   "source": [
    "import pandas as pd\n",
    "import itertools"
   ]
  },
  {
   "cell_type": "code",
   "execution_count": 51,
   "metadata": {},
   "outputs": [
    {
     "data": {
      "application/vnd.plotly.v1+json": {
       "config": {
        "plotlyServerURL": "https://plot.ly"
       },
       "data": [
        {
         "hovertemplate": "%{y}<extra></extra>",
         "legendgroup": "OPERACIONES Y COBRANZA",
         "legendgrouptitle": {
          "text": "OPERACIONES Y COBRANZA"
         },
         "marker": {
          "color": "#008BD2",
          "line": {
           "color": "#333",
           "width": 2
          }
         },
         "name": "Voluntaria",
         "offset": -1,
         "offsetgroup": "0",
         "type": "bar",
         "width": 1,
         "x": [
          1,
          2,
          3,
          4,
          5,
          6,
          7,
          8,
          9
         ],
         "y": [
          5,
          3,
          1,
          1,
          2,
          0,
          2,
          2,
          0
         ],
         "yaxis": "y"
        },
        {
         "hovertemplate": "%{y}<extra></extra>",
         "legendgroup": "OPERACIONES Y COBRANZA",
         "legendgrouptitle": {
          "text": "OPERACIONES Y COBRANZA"
         },
         "marker": {
          "color": "#BDCBD2",
          "line": {
           "color": "#333",
           "width": 2
          }
         },
         "name": "Involuntaria",
         "offset": -1,
         "offsetgroup": "0",
         "type": "bar",
         "width": 1,
         "x": [
          1,
          2,
          3,
          4,
          5,
          6,
          7,
          8,
          9
         ],
         "y": [
          0,
          1,
          1,
          0,
          0,
          3,
          2,
          2,
          0
         ],
         "yaxis": "y"
        },
        {
         "hovertemplate": "%{y}<extra></extra>",
         "legendgroup": "COMERCIAL",
         "legendgrouptitle": {
          "text": "COMERCIAL"
         },
         "marker": {
          "color": "#1592D2",
          "line": {
           "color": "#333",
           "width": 2
          }
         },
         "name": "Voluntaria",
         "offset": 0,
         "offsetgroup": "1",
         "type": "bar",
         "width": 1,
         "x": [
          1,
          2,
          3,
          4,
          5,
          6,
          7,
          8,
          9
         ],
         "y": [
          2,
          3,
          1,
          3,
          5,
          2,
          2,
          2,
          0
         ],
         "yaxis": "y2"
        },
        {
         "hovertemplate": "%{y}<extra></extra>",
         "legendgroup": "COMERCIAL",
         "legendgrouptitle": {
          "text": "COMERCIAL"
         },
         "marker": {
          "color": "#A8C4D2",
          "line": {
           "color": "#333",
           "width": 2
          }
         },
         "name": "Involuntaria",
         "offset": 0,
         "offsetgroup": "1",
         "type": "bar",
         "width": 1,
         "x": [
          1,
          2,
          3,
          4,
          5,
          6,
          7,
          8,
          9
         ],
         "y": [
          4,
          2,
          1,
          1,
          2,
          1,
          2,
          9,
          1
         ],
         "yaxis": "y2"
        }
       ],
       "layout": {
        "barmode": "relative",
        "font": {
         "size": 16
        },
        "height": 600,
        "hovermode": "x",
        "legend": {
         "orientation": "h",
         "x": 0,
         "y": 1
        },
        "margin": {
         "b": 0,
         "l": 0,
         "r": 10,
         "t": 10
        },
        "template": {
         "data": {
          "bar": [
           {
            "error_x": {
             "color": "#2a3f5f"
            },
            "error_y": {
             "color": "#2a3f5f"
            },
            "marker": {
             "line": {
              "color": "#E5ECF6",
              "width": 0.5
             },
             "pattern": {
              "fillmode": "overlay",
              "size": 10,
              "solidity": 0.2
             }
            },
            "type": "bar"
           }
          ],
          "barpolar": [
           {
            "marker": {
             "line": {
              "color": "#E5ECF6",
              "width": 0.5
             },
             "pattern": {
              "fillmode": "overlay",
              "size": 10,
              "solidity": 0.2
             }
            },
            "type": "barpolar"
           }
          ],
          "carpet": [
           {
            "aaxis": {
             "endlinecolor": "#2a3f5f",
             "gridcolor": "white",
             "linecolor": "white",
             "minorgridcolor": "white",
             "startlinecolor": "#2a3f5f"
            },
            "baxis": {
             "endlinecolor": "#2a3f5f",
             "gridcolor": "white",
             "linecolor": "white",
             "minorgridcolor": "white",
             "startlinecolor": "#2a3f5f"
            },
            "type": "carpet"
           }
          ],
          "choropleth": [
           {
            "colorbar": {
             "outlinewidth": 0,
             "ticks": ""
            },
            "type": "choropleth"
           }
          ],
          "contour": [
           {
            "colorbar": {
             "outlinewidth": 0,
             "ticks": ""
            },
            "colorscale": [
             [
              0,
              "#0d0887"
             ],
             [
              0.1111111111111111,
              "#46039f"
             ],
             [
              0.2222222222222222,
              "#7201a8"
             ],
             [
              0.3333333333333333,
              "#9c179e"
             ],
             [
              0.4444444444444444,
              "#bd3786"
             ],
             [
              0.5555555555555556,
              "#d8576b"
             ],
             [
              0.6666666666666666,
              "#ed7953"
             ],
             [
              0.7777777777777778,
              "#fb9f3a"
             ],
             [
              0.8888888888888888,
              "#fdca26"
             ],
             [
              1,
              "#f0f921"
             ]
            ],
            "type": "contour"
           }
          ],
          "contourcarpet": [
           {
            "colorbar": {
             "outlinewidth": 0,
             "ticks": ""
            },
            "type": "contourcarpet"
           }
          ],
          "heatmap": [
           {
            "colorbar": {
             "outlinewidth": 0,
             "ticks": ""
            },
            "colorscale": [
             [
              0,
              "#0d0887"
             ],
             [
              0.1111111111111111,
              "#46039f"
             ],
             [
              0.2222222222222222,
              "#7201a8"
             ],
             [
              0.3333333333333333,
              "#9c179e"
             ],
             [
              0.4444444444444444,
              "#bd3786"
             ],
             [
              0.5555555555555556,
              "#d8576b"
             ],
             [
              0.6666666666666666,
              "#ed7953"
             ],
             [
              0.7777777777777778,
              "#fb9f3a"
             ],
             [
              0.8888888888888888,
              "#fdca26"
             ],
             [
              1,
              "#f0f921"
             ]
            ],
            "type": "heatmap"
           }
          ],
          "heatmapgl": [
           {
            "colorbar": {
             "outlinewidth": 0,
             "ticks": ""
            },
            "colorscale": [
             [
              0,
              "#0d0887"
             ],
             [
              0.1111111111111111,
              "#46039f"
             ],
             [
              0.2222222222222222,
              "#7201a8"
             ],
             [
              0.3333333333333333,
              "#9c179e"
             ],
             [
              0.4444444444444444,
              "#bd3786"
             ],
             [
              0.5555555555555556,
              "#d8576b"
             ],
             [
              0.6666666666666666,
              "#ed7953"
             ],
             [
              0.7777777777777778,
              "#fb9f3a"
             ],
             [
              0.8888888888888888,
              "#fdca26"
             ],
             [
              1,
              "#f0f921"
             ]
            ],
            "type": "heatmapgl"
           }
          ],
          "histogram": [
           {
            "marker": {
             "pattern": {
              "fillmode": "overlay",
              "size": 10,
              "solidity": 0.2
             }
            },
            "type": "histogram"
           }
          ],
          "histogram2d": [
           {
            "colorbar": {
             "outlinewidth": 0,
             "ticks": ""
            },
            "colorscale": [
             [
              0,
              "#0d0887"
             ],
             [
              0.1111111111111111,
              "#46039f"
             ],
             [
              0.2222222222222222,
              "#7201a8"
             ],
             [
              0.3333333333333333,
              "#9c179e"
             ],
             [
              0.4444444444444444,
              "#bd3786"
             ],
             [
              0.5555555555555556,
              "#d8576b"
             ],
             [
              0.6666666666666666,
              "#ed7953"
             ],
             [
              0.7777777777777778,
              "#fb9f3a"
             ],
             [
              0.8888888888888888,
              "#fdca26"
             ],
             [
              1,
              "#f0f921"
             ]
            ],
            "type": "histogram2d"
           }
          ],
          "histogram2dcontour": [
           {
            "colorbar": {
             "outlinewidth": 0,
             "ticks": ""
            },
            "colorscale": [
             [
              0,
              "#0d0887"
             ],
             [
              0.1111111111111111,
              "#46039f"
             ],
             [
              0.2222222222222222,
              "#7201a8"
             ],
             [
              0.3333333333333333,
              "#9c179e"
             ],
             [
              0.4444444444444444,
              "#bd3786"
             ],
             [
              0.5555555555555556,
              "#d8576b"
             ],
             [
              0.6666666666666666,
              "#ed7953"
             ],
             [
              0.7777777777777778,
              "#fb9f3a"
             ],
             [
              0.8888888888888888,
              "#fdca26"
             ],
             [
              1,
              "#f0f921"
             ]
            ],
            "type": "histogram2dcontour"
           }
          ],
          "mesh3d": [
           {
            "colorbar": {
             "outlinewidth": 0,
             "ticks": ""
            },
            "type": "mesh3d"
           }
          ],
          "parcoords": [
           {
            "line": {
             "colorbar": {
              "outlinewidth": 0,
              "ticks": ""
             }
            },
            "type": "parcoords"
           }
          ],
          "pie": [
           {
            "automargin": true,
            "type": "pie"
           }
          ],
          "scatter": [
           {
            "marker": {
             "colorbar": {
              "outlinewidth": 0,
              "ticks": ""
             }
            },
            "type": "scatter"
           }
          ],
          "scatter3d": [
           {
            "line": {
             "colorbar": {
              "outlinewidth": 0,
              "ticks": ""
             }
            },
            "marker": {
             "colorbar": {
              "outlinewidth": 0,
              "ticks": ""
             }
            },
            "type": "scatter3d"
           }
          ],
          "scattercarpet": [
           {
            "marker": {
             "colorbar": {
              "outlinewidth": 0,
              "ticks": ""
             }
            },
            "type": "scattercarpet"
           }
          ],
          "scattergeo": [
           {
            "marker": {
             "colorbar": {
              "outlinewidth": 0,
              "ticks": ""
             }
            },
            "type": "scattergeo"
           }
          ],
          "scattergl": [
           {
            "marker": {
             "colorbar": {
              "outlinewidth": 0,
              "ticks": ""
             }
            },
            "type": "scattergl"
           }
          ],
          "scattermapbox": [
           {
            "marker": {
             "colorbar": {
              "outlinewidth": 0,
              "ticks": ""
             }
            },
            "type": "scattermapbox"
           }
          ],
          "scatterpolar": [
           {
            "marker": {
             "colorbar": {
              "outlinewidth": 0,
              "ticks": ""
             }
            },
            "type": "scatterpolar"
           }
          ],
          "scatterpolargl": [
           {
            "marker": {
             "colorbar": {
              "outlinewidth": 0,
              "ticks": ""
             }
            },
            "type": "scatterpolargl"
           }
          ],
          "scatterternary": [
           {
            "marker": {
             "colorbar": {
              "outlinewidth": 0,
              "ticks": ""
             }
            },
            "type": "scatterternary"
           }
          ],
          "surface": [
           {
            "colorbar": {
             "outlinewidth": 0,
             "ticks": ""
            },
            "colorscale": [
             [
              0,
              "#0d0887"
             ],
             [
              0.1111111111111111,
              "#46039f"
             ],
             [
              0.2222222222222222,
              "#7201a8"
             ],
             [
              0.3333333333333333,
              "#9c179e"
             ],
             [
              0.4444444444444444,
              "#bd3786"
             ],
             [
              0.5555555555555556,
              "#d8576b"
             ],
             [
              0.6666666666666666,
              "#ed7953"
             ],
             [
              0.7777777777777778,
              "#fb9f3a"
             ],
             [
              0.8888888888888888,
              "#fdca26"
             ],
             [
              1,
              "#f0f921"
             ]
            ],
            "type": "surface"
           }
          ],
          "table": [
           {
            "cells": {
             "fill": {
              "color": "#EBF0F8"
             },
             "line": {
              "color": "white"
             }
            },
            "header": {
             "fill": {
              "color": "#C8D4E3"
             },
             "line": {
              "color": "white"
             }
            },
            "type": "table"
           }
          ]
         },
         "layout": {
          "annotationdefaults": {
           "arrowcolor": "#2a3f5f",
           "arrowhead": 0,
           "arrowwidth": 1
          },
          "autotypenumbers": "strict",
          "coloraxis": {
           "colorbar": {
            "outlinewidth": 0,
            "ticks": ""
           }
          },
          "colorscale": {
           "diverging": [
            [
             0,
             "#8e0152"
            ],
            [
             0.1,
             "#c51b7d"
            ],
            [
             0.2,
             "#de77ae"
            ],
            [
             0.3,
             "#f1b6da"
            ],
            [
             0.4,
             "#fde0ef"
            ],
            [
             0.5,
             "#f7f7f7"
            ],
            [
             0.6,
             "#e6f5d0"
            ],
            [
             0.7,
             "#b8e186"
            ],
            [
             0.8,
             "#7fbc41"
            ],
            [
             0.9,
             "#4d9221"
            ],
            [
             1,
             "#276419"
            ]
           ],
           "sequential": [
            [
             0,
             "#0d0887"
            ],
            [
             0.1111111111111111,
             "#46039f"
            ],
            [
             0.2222222222222222,
             "#7201a8"
            ],
            [
             0.3333333333333333,
             "#9c179e"
            ],
            [
             0.4444444444444444,
             "#bd3786"
            ],
            [
             0.5555555555555556,
             "#d8576b"
            ],
            [
             0.6666666666666666,
             "#ed7953"
            ],
            [
             0.7777777777777778,
             "#fb9f3a"
            ],
            [
             0.8888888888888888,
             "#fdca26"
            ],
            [
             1,
             "#f0f921"
            ]
           ],
           "sequentialminus": [
            [
             0,
             "#0d0887"
            ],
            [
             0.1111111111111111,
             "#46039f"
            ],
            [
             0.2222222222222222,
             "#7201a8"
            ],
            [
             0.3333333333333333,
             "#9c179e"
            ],
            [
             0.4444444444444444,
             "#bd3786"
            ],
            [
             0.5555555555555556,
             "#d8576b"
            ],
            [
             0.6666666666666666,
             "#ed7953"
            ],
            [
             0.7777777777777778,
             "#fb9f3a"
            ],
            [
             0.8888888888888888,
             "#fdca26"
            ],
            [
             1,
             "#f0f921"
            ]
           ]
          },
          "colorway": [
           "#636efa",
           "#EF553B",
           "#00cc96",
           "#ab63fa",
           "#FFA15A",
           "#19d3f3",
           "#FF6692",
           "#B6E880",
           "#FF97FF",
           "#FECB52"
          ],
          "font": {
           "color": "#2a3f5f"
          },
          "geo": {
           "bgcolor": "white",
           "lakecolor": "white",
           "landcolor": "#E5ECF6",
           "showlakes": true,
           "showland": true,
           "subunitcolor": "white"
          },
          "hoverlabel": {
           "align": "left"
          },
          "hovermode": "closest",
          "mapbox": {
           "style": "light"
          },
          "paper_bgcolor": "white",
          "plot_bgcolor": "#E5ECF6",
          "polar": {
           "angularaxis": {
            "gridcolor": "white",
            "linecolor": "white",
            "ticks": ""
           },
           "bgcolor": "#E5ECF6",
           "radialaxis": {
            "gridcolor": "white",
            "linecolor": "white",
            "ticks": ""
           }
          },
          "scene": {
           "xaxis": {
            "backgroundcolor": "#E5ECF6",
            "gridcolor": "white",
            "gridwidth": 2,
            "linecolor": "white",
            "showbackground": true,
            "ticks": "",
            "zerolinecolor": "white"
           },
           "yaxis": {
            "backgroundcolor": "#E5ECF6",
            "gridcolor": "white",
            "gridwidth": 2,
            "linecolor": "white",
            "showbackground": true,
            "ticks": "",
            "zerolinecolor": "white"
           },
           "zaxis": {
            "backgroundcolor": "#E5ECF6",
            "gridcolor": "white",
            "gridwidth": 2,
            "linecolor": "white",
            "showbackground": true,
            "ticks": "",
            "zerolinecolor": "white"
           }
          },
          "shapedefaults": {
           "line": {
            "color": "#2a3f5f"
           }
          },
          "ternary": {
           "aaxis": {
            "gridcolor": "white",
            "linecolor": "white",
            "ticks": ""
           },
           "baxis": {
            "gridcolor": "white",
            "linecolor": "white",
            "ticks": ""
           },
           "bgcolor": "#E5ECF6",
           "caxis": {
            "gridcolor": "white",
            "linecolor": "white",
            "ticks": ""
           }
          },
          "title": {
           "x": 0.05
          },
          "xaxis": {
           "automargin": true,
           "gridcolor": "white",
           "linecolor": "white",
           "ticks": "",
           "title": {
            "standoff": 15
           },
           "zerolinecolor": "white",
           "zerolinewidth": 2
          },
          "yaxis": {
           "automargin": true,
           "gridcolor": "white",
           "linecolor": "white",
           "ticks": "",
           "title": {
            "standoff": 15
           },
           "zerolinecolor": "white",
           "zerolinewidth": 2
          }
         }
        },
        "width": 1000,
        "yaxis": {
         "range": [
          0,
          16.5
         ],
         "showgrid": false,
         "showticklabels": false
        },
        "yaxis2": {
         "anchor": "x",
         "matches": "y",
         "overlaying": "y",
         "visible": false
        }
       }
      }
     },
     "metadata": {},
     "output_type": "display_data"
    }
   ],
   "source": [
    "import numpy as np\n",
    "import pandas as pd\n",
    "import plotly.graph_objects as go\n",
    "\n",
    "\n",
    "# Create dummy data indexed by month and with multi-columns [product, revenue]\n",
    "df_irina = pd.read_pickle('test.pkl')\n",
    "\n",
    "df_irina.set_index('month', drop=True, inplace=True)\n",
    "causes = df_irina.cause.unique()\n",
    "areas = df_irina.area.unique()\n",
    "\n",
    "combs = list(itertools.product(areas,causes))\n",
    "cols = pd.MultiIndex.from_tuples(combs)\n",
    "\n",
    "df_graphs = pd.DataFrame(columns=cols, index=df_irina.index.unique())\n",
    "\n",
    "# Counting the number of incidents per month per area per cause\n",
    "for area in areas:\n",
    "    for cause in causes:\n",
    "        df_graphs[(area,cause)] = df_irina[(df_irina.area == area) & (df_irina.cause == cause)].groupby('month').count()['cause']\n",
    "\n",
    "for col in df_graphs.columns:\n",
    "    df_graphs[col].fillna(0, inplace=True)\n",
    "    df_graphs[col] = df_graphs[col].astype(int)\n",
    "\n",
    "# Create a figure with the right layout\n",
    "fig = go.Figure(\n",
    "    layout=go.Layout(\n",
    "        height=600,\n",
    "        width=1000,\n",
    "        barmode=\"relative\",\n",
    "        yaxis_showticklabels=False,\n",
    "        yaxis_showgrid=False,\n",
    "        yaxis_range=[0, df_graphs.groupby(axis=1, level=0).sum().max().max() * 1.5],\n",
    "       # Secondary y-axis overlayed on the primary one and not visible\n",
    "        yaxis2=go.layout.YAxis(\n",
    "            visible=False,\n",
    "            matches=\"y\",\n",
    "            overlaying=\"y\",\n",
    "            anchor=\"x\",\n",
    "        ),\n",
    "        font=dict(size=16),\n",
    "        legend_x=0,\n",
    "        legend_y=1,\n",
    "        legend_orientation=\"h\",\n",
    "        hovermode=\"x\",\n",
    "        margin=dict(b=0,t=10,l=0,r=10)\n",
    "    )\n",
    ")\n",
    "\n",
    "# Define some colors for the product, revenue pairs\n",
    "colors = {\n",
    "    'OPERACIONES Y COBRANZA': {\n",
    "        \"Voluntaria\": \"#008BD2\",\n",
    "        \"Involuntaria\": \"#BDCBD2\",\n",
    "    },\n",
    "    \"COMERCIAL\": {\n",
    "        \"Voluntaria\": \"#1592D2\",\n",
    "        \"Involuntaria\": \"#A8C4D2\",}\n",
    "    # },\n",
    "    # \"INTELIGENCIA DE NEGOCIOS\": {\n",
    "    #     \"Voluntaria\": \"#1592D2\",\n",
    "    #     \"Involuntaria\": \"#A8C4D2\",\n",
    "    # },\n",
    "    # \"RIESGO\": {\n",
    "    #     \"Voluntaria\": \"#1592D2\",\n",
    "    #     \"Involuntaria\": \"#A8C4D2\",\n",
    "    # },\n",
    "    # \"NORMALIZACIÓN Y RIESGO PYME\": {\n",
    "    #     \"Voluntaria\": \"#1592D2\",\n",
    "    #     \"Involuntaria\": \"#A8C4D2\",\n",
    "    # }\n",
    "}\n",
    "\n",
    "df_graphs = df_graphs[['OPERACIONES Y COBRANZA', 'COMERCIAL']].copy(deep=True)\n",
    "\n",
    "# Add the traces\n",
    "for i, t in enumerate(colors):\n",
    "    for j, col in enumerate(df_graphs[t].columns):\n",
    "        if (df_graphs[t][col] == 0).all():\n",
    "            continue\n",
    "        fig.add_bar(\n",
    "            x=df_graphs.index,\n",
    "            y=df_graphs[t][col],\n",
    "            # Set the right yaxis depending on the selected product (from enumerate)\n",
    "            yaxis=f\"y{i + 1}\",\n",
    "            # Offset the bar trace, offset needs to match the width\n",
    "            # The values here are in milliseconds, 1billion ms is ~1/3 month\n",
    "            offsetgroup=str(i),\n",
    "            offset=(i - 1),\n",
    "            width=1,\n",
    "            legendgroup=t,\n",
    "            legendgrouptitle_text=t,\n",
    "            name=col,\n",
    "            marker_color=colors[t][col],\n",
    "            marker_line=dict(width=2, color=\"#333\"),\n",
    "            hovertemplate=\"%{y}<extra></extra>\"\n",
    "        )\n",
    "\n",
    "fig.show()"
   ]
  },
  {
   "cell_type": "code",
   "execution_count": 41,
   "metadata": {},
   "outputs": [
    {
     "ename": "TypeError",
     "evalue": "'type' object is not subscriptable",
     "output_type": "error",
     "traceback": [
      "\u001b[1;31m---------------------------------------------------------------------------\u001b[0m",
      "\u001b[1;31mTypeError\u001b[0m                                 Traceback (most recent call last)",
      "\u001b[1;32m<ipython-input-41-b8be93ac5f49>\u001b[0m in \u001b[0;36m<module>\u001b[1;34m\u001b[0m\n\u001b[0;32m      1\u001b[0m \u001b[1;32mimport\u001b[0m \u001b[0mplotly\u001b[0m\u001b[1;33m.\u001b[0m\u001b[0mexpress\u001b[0m \u001b[1;32mas\u001b[0m \u001b[0mpx\u001b[0m\u001b[1;33m\u001b[0m\u001b[1;33m\u001b[0m\u001b[0m\n\u001b[0;32m      2\u001b[0m \u001b[1;33m\u001b[0m\u001b[0m\n\u001b[1;32m----> 3\u001b[1;33m \u001b[0mgo\u001b[0m\u001b[1;33m.\u001b[0m\u001b[0mlayout\u001b[0m\u001b[1;33m.\u001b[0m\u001b[0mTemplate\u001b[0m\u001b[1;33m[\u001b[0m\u001b[1;34m'Blues'\u001b[0m\u001b[1;33m]\u001b[0m\u001b[1;33m\u001b[0m\u001b[1;33m\u001b[0m\u001b[0m\n\u001b[0m",
      "\u001b[1;31mTypeError\u001b[0m: 'type' object is not subscriptable"
     ]
    }
   ],
   "source": [
    "import plotly.express as px\n",
    "\n",
    "go.layout.Template['Blues']"
   ]
  },
  {
   "cell_type": "code",
   "execution_count": 27,
   "metadata": {},
   "outputs": [],
   "source": [
    "colors = {\n",
    "    'OPERACIONES Y COBRANZA': {\n",
    "        \"Voluntaria\": \"#F28F1D\",\n",
    "        \"Involuntaria\": \"#F6C619\",\n",
    "    },\n",
    "    \"COMERCIAL\": {\n",
    "        \"Voluntaria\": \"#2B6045\",\n",
    "        \"Involuntaria\": \"#5EB88A\",\n",
    "    }\n",
    "}"
   ]
  },
  {
   "cell_type": "code",
   "execution_count": 75,
   "metadata": {},
   "outputs": [
    {
     "data": {
      "text/html": [
       "<div>\n",
       "<style scoped>\n",
       "    .dataframe tbody tr th:only-of-type {\n",
       "        vertical-align: middle;\n",
       "    }\n",
       "\n",
       "    .dataframe tbody tr th {\n",
       "        vertical-align: top;\n",
       "    }\n",
       "\n",
       "    .dataframe thead tr th {\n",
       "        text-align: left;\n",
       "    }\n",
       "\n",
       "    .dataframe thead tr:last-of-type th {\n",
       "        text-align: right;\n",
       "    }\n",
       "</style>\n",
       "<table border=\"1\" class=\"dataframe\">\n",
       "  <thead>\n",
       "    <tr>\n",
       "      <th></th>\n",
       "      <th colspan=\"2\" halign=\"left\">1</th>\n",
       "      <th colspan=\"2\" halign=\"left\">2</th>\n",
       "      <th colspan=\"2\" halign=\"left\">3</th>\n",
       "      <th colspan=\"2\" halign=\"left\">4</th>\n",
       "      <th colspan=\"2\" halign=\"left\">5</th>\n",
       "      <th colspan=\"2\" halign=\"left\">6</th>\n",
       "      <th colspan=\"2\" halign=\"left\">7</th>\n",
       "      <th colspan=\"2\" halign=\"left\">8</th>\n",
       "      <th colspan=\"2\" halign=\"left\">9</th>\n",
       "    </tr>\n",
       "    <tr>\n",
       "      <th></th>\n",
       "      <th>Voluntaria</th>\n",
       "      <th>Involuntaria</th>\n",
       "      <th>Voluntaria</th>\n",
       "      <th>Involuntaria</th>\n",
       "      <th>Voluntaria</th>\n",
       "      <th>Involuntaria</th>\n",
       "      <th>Voluntaria</th>\n",
       "      <th>Involuntaria</th>\n",
       "      <th>Voluntaria</th>\n",
       "      <th>Involuntaria</th>\n",
       "      <th>Voluntaria</th>\n",
       "      <th>Involuntaria</th>\n",
       "      <th>Voluntaria</th>\n",
       "      <th>Involuntaria</th>\n",
       "      <th>Voluntaria</th>\n",
       "      <th>Involuntaria</th>\n",
       "      <th>Voluntaria</th>\n",
       "      <th>Involuntaria</th>\n",
       "    </tr>\n",
       "    <tr>\n",
       "      <th>area</th>\n",
       "      <th></th>\n",
       "      <th></th>\n",
       "      <th></th>\n",
       "      <th></th>\n",
       "      <th></th>\n",
       "      <th></th>\n",
       "      <th></th>\n",
       "      <th></th>\n",
       "      <th></th>\n",
       "      <th></th>\n",
       "      <th></th>\n",
       "      <th></th>\n",
       "      <th></th>\n",
       "      <th></th>\n",
       "      <th></th>\n",
       "      <th></th>\n",
       "      <th></th>\n",
       "      <th></th>\n",
       "    </tr>\n",
       "  </thead>\n",
       "  <tbody>\n",
       "    <tr>\n",
       "      <th>OPERACIONES Y COBRANZA</th>\n",
       "      <td>5</td>\n",
       "      <td>0</td>\n",
       "      <td>3</td>\n",
       "      <td>1</td>\n",
       "      <td>1</td>\n",
       "      <td>1</td>\n",
       "      <td>1</td>\n",
       "      <td>0</td>\n",
       "      <td>2</td>\n",
       "      <td>0</td>\n",
       "      <td>0</td>\n",
       "      <td>3</td>\n",
       "      <td>2</td>\n",
       "      <td>2</td>\n",
       "      <td>2</td>\n",
       "      <td>2</td>\n",
       "      <td>0</td>\n",
       "      <td>0</td>\n",
       "    </tr>\n",
       "    <tr>\n",
       "      <th>COMERCIAL</th>\n",
       "      <td>2</td>\n",
       "      <td>4</td>\n",
       "      <td>3</td>\n",
       "      <td>2</td>\n",
       "      <td>1</td>\n",
       "      <td>1</td>\n",
       "      <td>3</td>\n",
       "      <td>1</td>\n",
       "      <td>5</td>\n",
       "      <td>2</td>\n",
       "      <td>2</td>\n",
       "      <td>1</td>\n",
       "      <td>2</td>\n",
       "      <td>2</td>\n",
       "      <td>2</td>\n",
       "      <td>9</td>\n",
       "      <td>0</td>\n",
       "      <td>1</td>\n",
       "    </tr>\n",
       "    <tr>\n",
       "      <th>INTELIGENCIA DE NEGOCIOS</th>\n",
       "      <td>0</td>\n",
       "      <td>0</td>\n",
       "      <td>0</td>\n",
       "      <td>0</td>\n",
       "      <td>0</td>\n",
       "      <td>0</td>\n",
       "      <td>1</td>\n",
       "      <td>1</td>\n",
       "      <td>0</td>\n",
       "      <td>0</td>\n",
       "      <td>0</td>\n",
       "      <td>0</td>\n",
       "      <td>0</td>\n",
       "      <td>0</td>\n",
       "      <td>1</td>\n",
       "      <td>0</td>\n",
       "      <td>0</td>\n",
       "      <td>0</td>\n",
       "    </tr>\n",
       "    <tr>\n",
       "      <th>RIESGO</th>\n",
       "      <td>0</td>\n",
       "      <td>0</td>\n",
       "      <td>0</td>\n",
       "      <td>0</td>\n",
       "      <td>0</td>\n",
       "      <td>0</td>\n",
       "      <td>1</td>\n",
       "      <td>0</td>\n",
       "      <td>0</td>\n",
       "      <td>0</td>\n",
       "      <td>0</td>\n",
       "      <td>0</td>\n",
       "      <td>0</td>\n",
       "      <td>0</td>\n",
       "      <td>0</td>\n",
       "      <td>0</td>\n",
       "      <td>0</td>\n",
       "      <td>0</td>\n",
       "    </tr>\n",
       "    <tr>\n",
       "      <th>NORMALIZACIÓN Y RIESGO PYME</th>\n",
       "      <td>0</td>\n",
       "      <td>0</td>\n",
       "      <td>0</td>\n",
       "      <td>0</td>\n",
       "      <td>0</td>\n",
       "      <td>0</td>\n",
       "      <td>0</td>\n",
       "      <td>1</td>\n",
       "      <td>1</td>\n",
       "      <td>0</td>\n",
       "      <td>0</td>\n",
       "      <td>0</td>\n",
       "      <td>0</td>\n",
       "      <td>0</td>\n",
       "      <td>0</td>\n",
       "      <td>0</td>\n",
       "      <td>0</td>\n",
       "      <td>0</td>\n",
       "    </tr>\n",
       "  </tbody>\n",
       "</table>\n",
       "</div>"
      ],
      "text/plain": [
       "                                     1                       2               \\\n",
       "                            Voluntaria Involuntaria Voluntaria Involuntaria   \n",
       "area                                                                          \n",
       "OPERACIONES Y COBRANZA               5            0          3            1   \n",
       "COMERCIAL                            2            4          3            2   \n",
       "INTELIGENCIA DE NEGOCIOS             0            0          0            0   \n",
       "RIESGO                               0            0          0            0   \n",
       "NORMALIZACIÓN Y RIESGO PYME          0            0          0            0   \n",
       "\n",
       "                                     3                       4               \\\n",
       "                            Voluntaria Involuntaria Voluntaria Involuntaria   \n",
       "area                                                                          \n",
       "OPERACIONES Y COBRANZA               1            1          1            0   \n",
       "COMERCIAL                            1            1          3            1   \n",
       "INTELIGENCIA DE NEGOCIOS             0            0          1            1   \n",
       "RIESGO                               0            0          1            0   \n",
       "NORMALIZACIÓN Y RIESGO PYME          0            0          0            1   \n",
       "\n",
       "                                     5                       6               \\\n",
       "                            Voluntaria Involuntaria Voluntaria Involuntaria   \n",
       "area                                                                          \n",
       "OPERACIONES Y COBRANZA               2            0          0            3   \n",
       "COMERCIAL                            5            2          2            1   \n",
       "INTELIGENCIA DE NEGOCIOS             0            0          0            0   \n",
       "RIESGO                               0            0          0            0   \n",
       "NORMALIZACIÓN Y RIESGO PYME          1            0          0            0   \n",
       "\n",
       "                                     7                       8               \\\n",
       "                            Voluntaria Involuntaria Voluntaria Involuntaria   \n",
       "area                                                                          \n",
       "OPERACIONES Y COBRANZA               2            2          2            2   \n",
       "COMERCIAL                            2            2          2            9   \n",
       "INTELIGENCIA DE NEGOCIOS             0            0          1            0   \n",
       "RIESGO                               0            0          0            0   \n",
       "NORMALIZACIÓN Y RIESGO PYME          0            0          0            0   \n",
       "\n",
       "                                     9               \n",
       "                            Voluntaria Involuntaria  \n",
       "area                                                 \n",
       "OPERACIONES Y COBRANZA               0            0  \n",
       "COMERCIAL                            0            1  \n",
       "INTELIGENCIA DE NEGOCIOS             0            0  \n",
       "RIESGO                               0            0  \n",
       "NORMALIZACIÓN Y RIESGO PYME          0            0  "
      ]
     },
     "execution_count": 75,
     "metadata": {},
     "output_type": "execute_result"
    }
   ],
   "source": [
    "df_irina = pd.read_pickle('test.pkl')\n",
    "\n",
    "df_irina.set_index(['area'], drop=True, inplace=True)\n",
    "months = df_irina.month.unique()\n",
    "causes = df_irina.cause.unique()\n",
    "areas = df_irina.index.unique()\n",
    "\n",
    "combs = list(itertools.product(months, causes))\n",
    "cols = pd.MultiIndex.from_tuples(combs)\n",
    "\n",
    "df_graphs = pd.DataFrame(columns=cols, index=df_irina.index.unique())\n",
    "\n",
    "# Counting the number of incidents per month per area per cause\n",
    "for month in months:\n",
    "    for cause in causes:\n",
    "        df_graphs[(month,cause)] = df_irina[(df_irina.month == month) & (df_irina.cause == cause)].groupby('area').count()['cause']\n",
    "\n",
    "for col in df_graphs.columns:\n",
    "    df_graphs[col].fillna(0, inplace=True)\n",
    "    df_graphs[col] = df_graphs[col].astype(int)\n",
    "\n",
    "df_graphs"
   ]
  }
 ],
 "metadata": {
  "kernelspec": {
   "display_name": "Python 3.8.10 ('Re5earch')",
   "language": "python",
   "name": "python3"
  },
  "language_info": {
   "codemirror_mode": {
    "name": "ipython",
    "version": 3
   },
   "file_extension": ".py",
   "mimetype": "text/x-python",
   "name": "python",
   "nbconvert_exporter": "python",
   "pygments_lexer": "ipython3",
   "version": "3.8.10"
  },
  "orig_nbformat": 4,
  "vscode": {
   "interpreter": {
    "hash": "c2c08a320960602a5dbb50690c39580a4fd6702b8ee9fb6d2877cecfad1a9c5c"
   }
  }
 },
 "nbformat": 4,
 "nbformat_minor": 2
}
