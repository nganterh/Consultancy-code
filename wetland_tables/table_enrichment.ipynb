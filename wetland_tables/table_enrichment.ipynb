{
 "cells": [
  {
   "cell_type": "code",
   "execution_count": 1,
   "metadata": {},
   "outputs": [],
   "source": [
    "import pandas as pd\n",
    "\n",
    "# Purpose specific libraries\n",
    "from bs4 import BeautifulSoup\n",
    "from selenium import webdriver\n",
    "from selenium.webdriver.chrome.service import Service\n",
    "from webdriver_manager.chrome import ChromeDriverManager"
   ]
  },
  {
   "cell_type": "code",
   "execution_count": 2,
   "metadata": {},
   "outputs": [],
   "source": [
    "df_comunidad = pd.read_excel('Formularios contacto.xlsx')"
   ]
  },
  {
   "cell_type": "code",
   "execution_count": 3,
   "metadata": {},
   "outputs": [],
   "source": [
    "cols = [col for col in df_comunidad.columns if 'Unnamed' not in col]\n",
    "df_comunidad = df_comunidad[cols].copy(deep=True)"
   ]
  },
  {
   "cell_type": "code",
   "execution_count": 4,
   "metadata": {},
   "outputs": [
    {
     "name": "stderr",
     "output_type": "stream",
     "text": [
      "[WDM] - Downloading: 100%|██████████| 6.68M/6.68M [00:00<00:00, 41.2MB/s]\n"
     ]
    }
   ],
   "source": [
    "cols_rutificador = ['Nombre', 'Apellido', 'Región']\n",
    "\n",
    "options = webdriver.ChromeOptions()\n",
    "service = Service(ChromeDriverManager().install())\n",
    "\n",
    "browser = webdriver.Chrome(service=service, options=options)\n",
    "\n",
    "browser.set_window_size(1920, 1080)"
   ]
  },
  {
   "cell_type": "code",
   "execution_count": null,
   "metadata": {},
   "outputs": [],
   "source": [
    "browser.get('https://www.nombrerutyfirma.com/nombre')"
   ]
  }
 ],
 "metadata": {
  "kernelspec": {
   "display_name": "Python 3.8.11 ('Falabella-main')",
   "language": "python",
   "name": "python3"
  },
  "language_info": {
   "codemirror_mode": {
    "name": "ipython",
    "version": 3
   },
   "file_extension": ".py",
   "mimetype": "text/x-python",
   "name": "python",
   "nbconvert_exporter": "python",
   "pygments_lexer": "ipython3",
   "version": "3.8.11"
  },
  "orig_nbformat": 4,
  "vscode": {
   "interpreter": {
    "hash": "84f4b9596b146fd2981f42bd8d7975ae1a54ca586f4533c39a7447892f47b501"
   }
  }
 },
 "nbformat": 4,
 "nbformat_minor": 2
}
